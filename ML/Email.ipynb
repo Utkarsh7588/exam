{
 "cells": [
  {
   "cell_type": "code",
   "execution_count": 1,
   "id": "9d833e43-c46d-4986-810f-bcfbaa2865ae",
   "metadata": {},
   "outputs": [],
   "source": [
    "import pandas as pd\n",
    "import numpy as np\n",
    "df=pd.read_csv('emails.csv')"
   ]
  },
  {
   "cell_type": "code",
   "execution_count": 3,
   "id": "34f558c9-3e97-4be5-9fc9-57dd70cd6cfb",
   "metadata": {},
   "outputs": [
    {
     "data": {
      "text/plain": [
       "Email No.     0\n",
       "the           0\n",
       "to            0\n",
       "ect           0\n",
       "and           0\n",
       "             ..\n",
       "military      0\n",
       "allowing      0\n",
       "ff            0\n",
       "dry           0\n",
       "Prediction    0\n",
       "Length: 3002, dtype: int64"
      ]
     },
     "execution_count": 3,
     "metadata": {},
     "output_type": "execute_result"
    }
   ],
   "source": [
    "df.isna().sum()"
   ]
  },
  {
   "cell_type": "code",
   "execution_count": 4,
   "id": "d0031bbc-508e-45bf-87ce-d26baf3fbf19",
   "metadata": {},
   "outputs": [],
   "source": [
    "df.drop(['Email No.'],axis=1,inplace=True)\n",
    "Y=df['Prediction']\n",
    "X=df.drop(['Prediction'],axis=1)"
   ]
  },
  {
   "cell_type": "code",
   "execution_count": 7,
   "id": "2bef8323-c6ac-4fb9-a875-38dfe55d1fda",
   "metadata": {},
   "outputs": [],
   "source": [
    "from sklearn.preprocessing import scale\n",
    "X=scale(X)"
   ]
  },
  {
   "cell_type": "code",
   "execution_count": 9,
   "id": "9e349b52-dbc0-481c-876c-20e2d73d262a",
   "metadata": {},
   "outputs": [],
   "source": [
    "from sklearn.model_selection import train_test_split\n",
    "X_train,X_test,Y_train,Y_test=train_test_split(X,Y,test_size=0.3)"
   ]
  },
  {
   "cell_type": "code",
   "execution_count": 11,
   "id": "e931b4f1-0670-434a-96df-50b3c63385e0",
   "metadata": {},
   "outputs": [],
   "source": [
    "from sklearn.neighbors import KNeighborsClassifier\n",
    "knn=KNeighborsClassifier(n_neighbors=7)\n",
    "knn.fit(X_train,Y_train)\n",
    "Y_pred=knn.predict(X_test)"
   ]
  },
  {
   "cell_type": "code",
   "execution_count": 13,
   "id": "2d81e96b-55e3-4e8d-bf29-c6d141625be1",
   "metadata": {},
   "outputs": [
    {
     "data": {
      "text/plain": [
       "0.8009020618556701"
      ]
     },
     "execution_count": 13,
     "metadata": {},
     "output_type": "execute_result"
    }
   ],
   "source": [
    "from sklearn import metrics\n",
    "metrics.accuracy_score(Y_test,Y_pred)"
   ]
  },
  {
   "cell_type": "code",
   "execution_count": 14,
   "id": "68a5f6e7-d876-4e69-9c58-3422e2ce0d9c",
   "metadata": {},
   "outputs": [],
   "source": [
    "from sklearn.svm import SVC\n",
    "model=SVC(C=1)\n",
    "model.fit(X_train, Y_train)\n",
    "Y_pred=model.predict(X_test)"
   ]
  },
  {
   "cell_type": "code",
   "execution_count": null,
   "id": "22d8a218-9312-4a59-af54-f21c14ab6b9a",
   "metadata": {},
   "outputs": [],
   "source": [
    "metics.accuracy_score(Y_test,Y_pred)"
   ]
  }
 ],
 "metadata": {
  "kernelspec": {
   "display_name": "Python 3 (ipykernel)",
   "language": "python",
   "name": "python3"
  },
  "language_info": {
   "codemirror_mode": {
    "name": "ipython",
    "version": 3
   },
   "file_extension": ".py",
   "mimetype": "text/x-python",
   "name": "python",
   "nbconvert_exporter": "python",
   "pygments_lexer": "ipython3",
   "version": "3.11.4"
  }
 },
 "nbformat": 4,
 "nbformat_minor": 5
}
